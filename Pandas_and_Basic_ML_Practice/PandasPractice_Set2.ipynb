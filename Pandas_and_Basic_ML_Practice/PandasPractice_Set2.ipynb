{
  "nbformat": 4,
  "nbformat_minor": 0,
  "metadata": {
    "colab": {
      "name": "PandasPractice_Set2.ipynb",
      "provenance": [],
      "collapsed_sections": [],
      "authorship_tag": "ABX9TyN4ndN2owQVu0izzR+Y01wg",
      "include_colab_link": true
    },
    "kernelspec": {
      "name": "python3",
      "display_name": "Python 3"
    }
  },
  "cells": [
    {
      "cell_type": "markdown",
      "metadata": {
        "id": "view-in-github",
        "colab_type": "text"
      },
      "source": [
        "<a href=\"https://colab.research.google.com/github/cmsteinberg/DataScience/blob/main/PandasPractice_Set2.ipynb\" target=\"_parent\"><img src=\"https://colab.research.google.com/assets/colab-badge.svg\" alt=\"Open In Colab\"/></a>"
      ]
    },
    {
      "cell_type": "markdown",
      "metadata": {
        "id": "725nCXd_ADiI"
      },
      "source": [
        "Place your data in a colab notebook into a pandas dataframe\r\n"
      ]
    },
    {
      "cell_type": "code",
      "metadata": {
        "id": "4tc38422AGgc",
        "colab": {
          "base_uri": "https://localhost:8080/",
          "height": 442
        },
        "outputId": "da82638c-8d6f-4427-9687-c2ddb06e9ecd"
      },
      "source": [
        "import matplotlib.pyplot as plt\r\n",
        "from sklearn.linear_model import LinearRegression\r\n",
        "import pandas as pd \r\n",
        "import numpy as np\r\n",
        "\r\n",
        "df = pd.read_csv(\"https://raw.githubusercontent.com/cmsteinberg/DataScience/main/Pandas_and_Basic_ML_Practice/PandasPractice_Stocks.csv\")\r\n",
        "print(df.columns) \r\n",
        "df.head(1250)\r\n"
      ],
      "execution_count": 27,
      "outputs": [
        {
          "output_type": "stream",
          "text": [
            "Index(['Date', 'SBSW', 'UMC', 'SEDG', 'DLHC ', 'CPT'], dtype='object')\n"
          ],
          "name": "stdout"
        },
        {
          "output_type": "execute_result",
          "data": {
            "text/html": [
              "<div>\n",
              "<style scoped>\n",
              "    .dataframe tbody tr th:only-of-type {\n",
              "        vertical-align: middle;\n",
              "    }\n",
              "\n",
              "    .dataframe tbody tr th {\n",
              "        vertical-align: top;\n",
              "    }\n",
              "\n",
              "    .dataframe thead th {\n",
              "        text-align: right;\n",
              "    }\n",
              "</style>\n",
              "<table border=\"1\" class=\"dataframe\">\n",
              "  <thead>\n",
              "    <tr style=\"text-align: right;\">\n",
              "      <th></th>\n",
              "      <th>Date</th>\n",
              "      <th>SBSW</th>\n",
              "      <th>UMC</th>\n",
              "      <th>SEDG</th>\n",
              "      <th>DLHC</th>\n",
              "      <th>CPT</th>\n",
              "    </tr>\n",
              "  </thead>\n",
              "  <tbody>\n",
              "    <tr>\n",
              "      <th>0</th>\n",
              "      <td>2/24/2016</td>\n",
              "      <td>12.705882</td>\n",
              "      <td>2.01</td>\n",
              "      <td>24.900000</td>\n",
              "      <td>3.20</td>\n",
              "      <td>73.830002</td>\n",
              "    </tr>\n",
              "    <tr>\n",
              "      <th>1</th>\n",
              "      <td>2/25/2016</td>\n",
              "      <td>13.470588</td>\n",
              "      <td>2.05</td>\n",
              "      <td>25.190001</td>\n",
              "      <td>3.14</td>\n",
              "      <td>74.260002</td>\n",
              "    </tr>\n",
              "    <tr>\n",
              "      <th>2</th>\n",
              "      <td>2/26/2016</td>\n",
              "      <td>13.254902</td>\n",
              "      <td>2.05</td>\n",
              "      <td>24.700001</td>\n",
              "      <td>3.19</td>\n",
              "      <td>74.279999</td>\n",
              "    </tr>\n",
              "    <tr>\n",
              "      <th>3</th>\n",
              "      <td>2/29/2016</td>\n",
              "      <td>14.088235</td>\n",
              "      <td>2.07</td>\n",
              "      <td>24.469999</td>\n",
              "      <td>3.11</td>\n",
              "      <td>74.739998</td>\n",
              "    </tr>\n",
              "    <tr>\n",
              "      <th>4</th>\n",
              "      <td>3/1/2016</td>\n",
              "      <td>13.098039</td>\n",
              "      <td>2.08</td>\n",
              "      <td>26.020000</td>\n",
              "      <td>3.20</td>\n",
              "      <td>76.760002</td>\n",
              "    </tr>\n",
              "    <tr>\n",
              "      <th>...</th>\n",
              "      <td>...</td>\n",
              "      <td>...</td>\n",
              "      <td>...</td>\n",
              "      <td>...</td>\n",
              "      <td>...</td>\n",
              "      <td>...</td>\n",
              "    </tr>\n",
              "    <tr>\n",
              "      <th>1245</th>\n",
              "      <td>2/3/2021</td>\n",
              "      <td>15.940000</td>\n",
              "      <td>9.41</td>\n",
              "      <td>307.079987</td>\n",
              "      <td>10.68</td>\n",
              "      <td>103.739998</td>\n",
              "    </tr>\n",
              "    <tr>\n",
              "      <th>1246</th>\n",
              "      <td>2/4/2021</td>\n",
              "      <td>15.990000</td>\n",
              "      <td>9.45</td>\n",
              "      <td>301.700012</td>\n",
              "      <td>10.71</td>\n",
              "      <td>103.620003</td>\n",
              "    </tr>\n",
              "    <tr>\n",
              "      <th>1247</th>\n",
              "      <td>2/5/2021</td>\n",
              "      <td>16.850000</td>\n",
              "      <td>9.62</td>\n",
              "      <td>308.239990</td>\n",
              "      <td>10.70</td>\n",
              "      <td>101.800003</td>\n",
              "    </tr>\n",
              "    <tr>\n",
              "      <th>1248</th>\n",
              "      <td>2/8/2021</td>\n",
              "      <td>17.270000</td>\n",
              "      <td>10.06</td>\n",
              "      <td>318.829987</td>\n",
              "      <td>11.18</td>\n",
              "      <td>101.959999</td>\n",
              "    </tr>\n",
              "    <tr>\n",
              "      <th>1249</th>\n",
              "      <td>2/9/2021</td>\n",
              "      <td>17.160000</td>\n",
              "      <td>10.35</td>\n",
              "      <td>325.920013</td>\n",
              "      <td>11.23</td>\n",
              "      <td>101.139999</td>\n",
              "    </tr>\n",
              "  </tbody>\n",
              "</table>\n",
              "<p>1250 rows × 6 columns</p>\n",
              "</div>"
            ],
            "text/plain": [
              "           Date       SBSW    UMC        SEDG  DLHC          CPT\n",
              "0     2/24/2016  12.705882   2.01   24.900000   3.20   73.830002\n",
              "1     2/25/2016  13.470588   2.05   25.190001   3.14   74.260002\n",
              "2     2/26/2016  13.254902   2.05   24.700001   3.19   74.279999\n",
              "3     2/29/2016  14.088235   2.07   24.469999   3.11   74.739998\n",
              "4      3/1/2016  13.098039   2.08   26.020000   3.20   76.760002\n",
              "...         ...        ...    ...         ...    ...         ...\n",
              "1245   2/3/2021  15.940000   9.41  307.079987  10.68  103.739998\n",
              "1246   2/4/2021  15.990000   9.45  301.700012  10.71  103.620003\n",
              "1247   2/5/2021  16.850000   9.62  308.239990  10.70  101.800003\n",
              "1248   2/8/2021  17.270000  10.06  318.829987  11.18  101.959999\n",
              "1249   2/9/2021  17.160000  10.35  325.920013  11.23  101.139999\n",
              "\n",
              "[1250 rows x 6 columns]"
            ]
          },
          "metadata": {
            "tags": []
          },
          "execution_count": 27
        }
      ]
    },
    {
      "cell_type": "markdown",
      "metadata": {
        "id": "toaJbcP4AGsx"
      },
      "source": [
        "Output the statistics for each column"
      ]
    },
    {
      "cell_type": "code",
      "metadata": {
        "id": "ho5uVp7mAG5X",
        "colab": {
          "base_uri": "https://localhost:8080/",
          "height": 300
        },
        "outputId": "a36efd07-c56c-47e7-964e-19eccacea59c"
      },
      "source": [
        "df.describe()\r\n"
      ],
      "execution_count": 37,
      "outputs": [
        {
          "output_type": "execute_result",
          "data": {
            "text/html": [
              "<div>\n",
              "<style scoped>\n",
              "    .dataframe tbody tr th:only-of-type {\n",
              "        vertical-align: middle;\n",
              "    }\n",
              "\n",
              "    .dataframe tbody tr th {\n",
              "        vertical-align: top;\n",
              "    }\n",
              "\n",
              "    .dataframe thead th {\n",
              "        text-align: right;\n",
              "    }\n",
              "</style>\n",
              "<table border=\"1\" class=\"dataframe\">\n",
              "  <thead>\n",
              "    <tr style=\"text-align: right;\">\n",
              "      <th></th>\n",
              "      <th>SBSW</th>\n",
              "      <th>UMC</th>\n",
              "      <th>SEDG</th>\n",
              "      <th>DLHC</th>\n",
              "      <th>CPT</th>\n",
              "    </tr>\n",
              "  </thead>\n",
              "  <tbody>\n",
              "    <tr>\n",
              "      <th>count</th>\n",
              "      <td>1259.000000</td>\n",
              "      <td>1259.000000</td>\n",
              "      <td>1259.000000</td>\n",
              "      <td>1259.000000</td>\n",
              "      <td>1259.000000</td>\n",
              "    </tr>\n",
              "    <tr>\n",
              "      <th>mean</th>\n",
              "      <td>7.765267</td>\n",
              "      <td>2.724392</td>\n",
              "      <td>73.661072</td>\n",
              "      <td>5.817133</td>\n",
              "      <td>92.156394</td>\n",
              "    </tr>\n",
              "    <tr>\n",
              "      <th>std</th>\n",
              "      <td>4.418204</td>\n",
              "      <td>1.590164</td>\n",
              "      <td>77.909085</td>\n",
              "      <td>1.605920</td>\n",
              "      <td>9.754307</td>\n",
              "    </tr>\n",
              "    <tr>\n",
              "      <th>min</th>\n",
              "      <td>2.050000</td>\n",
              "      <td>1.640000</td>\n",
              "      <td>12.250000</td>\n",
              "      <td>3.110000</td>\n",
              "      <td>67.300003</td>\n",
              "    </tr>\n",
              "    <tr>\n",
              "      <th>25%</th>\n",
              "      <td>4.250000</td>\n",
              "      <td>1.940000</td>\n",
              "      <td>24.165000</td>\n",
              "      <td>4.800000</td>\n",
              "      <td>84.540001</td>\n",
              "    </tr>\n",
              "    <tr>\n",
              "      <th>50%</th>\n",
              "      <td>6.480000</td>\n",
              "      <td>2.300000</td>\n",
              "      <td>42.400002</td>\n",
              "      <td>5.500000</td>\n",
              "      <td>90.540001</td>\n",
              "    </tr>\n",
              "    <tr>\n",
              "      <th>75%</th>\n",
              "      <td>11.138628</td>\n",
              "      <td>2.640000</td>\n",
              "      <td>85.055001</td>\n",
              "      <td>6.155000</td>\n",
              "      <td>98.549999</td>\n",
              "    </tr>\n",
              "    <tr>\n",
              "      <th>max</th>\n",
              "      <td>20.372549</td>\n",
              "      <td>10.780000</td>\n",
              "      <td>365.970001</td>\n",
              "      <td>11.340000</td>\n",
              "      <td>120.419998</td>\n",
              "    </tr>\n",
              "  </tbody>\n",
              "</table>\n",
              "</div>"
            ],
            "text/plain": [
              "              SBSW          UMC         SEDG        DLHC           CPT\n",
              "count  1259.000000  1259.000000  1259.000000  1259.000000  1259.000000\n",
              "mean      7.765267     2.724392    73.661072     5.817133    92.156394\n",
              "std       4.418204     1.590164    77.909085     1.605920     9.754307\n",
              "min       2.050000     1.640000    12.250000     3.110000    67.300003\n",
              "25%       4.250000     1.940000    24.165000     4.800000    84.540001\n",
              "50%       6.480000     2.300000    42.400002     5.500000    90.540001\n",
              "75%      11.138628     2.640000    85.055001     6.155000    98.549999\n",
              "max      20.372549    10.780000   365.970001    11.340000   120.419998"
            ]
          },
          "metadata": {
            "tags": []
          },
          "execution_count": 37
        }
      ]
    },
    {
      "cell_type": "markdown",
      "metadata": {
        "id": "ASV-PoNiAHIQ"
      },
      "source": [
        "Output the covariance and correlation matrices"
      ]
    },
    {
      "cell_type": "code",
      "metadata": {
        "id": "8LEoa44iAHSL"
      },
      "source": [
        "import seaborn as sns\r\n",
        "covMat = df.cov()\r\n",
        "\r\n",
        "\r\n",
        "plt.rcParams.update({'font.size': 12,'figure.figsize':(20,20)})\r\n",
        "f3 = sns.heatmap(covMat, annot=True)\r\n",
        "plt.show() \r\n",
        "corMat = df.corr()\r\n",
        "\r\n",
        "plt.rcParams.update({'font.size': 12,'figure.figsize':(20,20)})\r\n",
        "f3 = sns.heatmap(corMat, annot=True)\r\n",
        "plt.show() "
      ],
      "execution_count": null,
      "outputs": []
    },
    {
      "cell_type": "markdown",
      "metadata": {
        "id": "I5ZjYLnGAPNd"
      },
      "source": [
        "Use a linear regression to predict the output for the next five days of one of the stocks"
      ]
    },
    {
      "cell_type": "code",
      "metadata": {
        "id": "q3YLZsNDAPwR",
        "colab": {
          "base_uri": "https://localhost:8080/"
        },
        "outputId": "33c90a04-97c0-497b-ab60-db450805f78a"
      },
      "source": [
        "stockPrices = df['UMC']\r\n",
        "days = df['Date']\r\n",
        "n = len(days)\r\n",
        "\r\n",
        "\r\n",
        "model = LinearRegression().fit(np.arange(n).reshape((n,1)), stockPrices)\r\n",
        "\r\n",
        "print(model.predict([[n],[n + 1], [n + 2], [n + 3], [n + 4]]))\r\n"
      ],
      "execution_count": 23,
      "outputs": [
        {
          "output_type": "stream",
          "text": [
            "[4.26831761 4.27076829 4.27321896 4.27566964 4.27812031]\n"
          ],
          "name": "stdout"
        }
      ]
    },
    {
      "cell_type": "markdown",
      "metadata": {
        "id": "WEvDsPNbp5bO"
      },
      "source": [
        "Change the data so that it is represented as a log percentage gain from the previous day. (The formula would be log[(day_1)/(day_0)] )\r\n"
      ]
    },
    {
      "cell_type": "code",
      "metadata": {
        "colab": {
          "base_uri": "https://localhost:8080/",
          "height": 246
        },
        "id": "vK78nIH6p6qt",
        "outputId": "68d54754-34ef-45d5-bc51-4e8e7583533f"
      },
      "source": [
        "logs = []\r\n",
        "\r\n",
        "for stocks in df.columns:\r\n",
        "  for n in range(len(df)):\r\n",
        "    if n == 0:\r\n",
        "      logs.append(-1)\r\n",
        "    else:\r\n",
        "      logs.append(np.log(df.get_value(n, stocks))/df.get_value(n - 1, stocks))\r\n",
        "      \r\n",
        "\r\n",
        "df['logPercentage'] = np.array(logs)"
      ],
      "execution_count": 41,
      "outputs": [
        {
          "output_type": "error",
          "ename": "TypeError",
          "evalue": "ignored",
          "traceback": [
            "\u001b[0;31m---------------------------------------------------------------------------\u001b[0m",
            "\u001b[0;31mTypeError\u001b[0m                                 Traceback (most recent call last)",
            "\u001b[0;32m<ipython-input-41-991d8d863aa4>\u001b[0m in \u001b[0;36m<module>\u001b[0;34m()\u001b[0m\n\u001b[1;32m      4\u001b[0m     \u001b[0mlogs\u001b[0m\u001b[0;34m.\u001b[0m\u001b[0mappend\u001b[0m\u001b[0;34m(\u001b[0m\u001b[0;34m-\u001b[0m\u001b[0;36m1\u001b[0m\u001b[0;34m)\u001b[0m\u001b[0;34m\u001b[0m\u001b[0;34m\u001b[0m\u001b[0m\n\u001b[1;32m      5\u001b[0m   \u001b[0;32melse\u001b[0m\u001b[0;34m:\u001b[0m\u001b[0;34m\u001b[0m\u001b[0;34m\u001b[0m\u001b[0m\n\u001b[0;32m----> 6\u001b[0;31m     \u001b[0mlogs\u001b[0m\u001b[0;34m.\u001b[0m\u001b[0mappend\u001b[0m\u001b[0;34m(\u001b[0m\u001b[0mnp\u001b[0m\u001b[0;34m.\u001b[0m\u001b[0mlog\u001b[0m\u001b[0;34m(\u001b[0m\u001b[0mdf\u001b[0m\u001b[0;34m.\u001b[0m\u001b[0miloc\u001b[0m\u001b[0;34m(\u001b[0m\u001b[0mn\u001b[0m\u001b[0;34m)\u001b[0m\u001b[0;34m/\u001b[0m\u001b[0mdf\u001b[0m\u001b[0;34m.\u001b[0m\u001b[0miloc\u001b[0m\u001b[0;34m(\u001b[0m\u001b[0mn\u001b[0m \u001b[0;34m-\u001b[0m \u001b[0;36m1\u001b[0m\u001b[0;34m)\u001b[0m \u001b[0;34m)\u001b[0m\u001b[0;34m)\u001b[0m\u001b[0;34m\u001b[0m\u001b[0;34m\u001b[0m\u001b[0m\n\u001b[0m\u001b[1;32m      7\u001b[0m \u001b[0;34m\u001b[0m\u001b[0m\n\u001b[1;32m      8\u001b[0m \u001b[0mdf\u001b[0m\u001b[0;34m[\u001b[0m\u001b[0;34m'logPercentage'\u001b[0m\u001b[0;34m]\u001b[0m \u001b[0;34m=\u001b[0m \u001b[0mnp\u001b[0m\u001b[0;34m.\u001b[0m\u001b[0marray\u001b[0m\u001b[0;34m(\u001b[0m\u001b[0mlogs\u001b[0m\u001b[0;34m)\u001b[0m\u001b[0;34m\u001b[0m\u001b[0;34m\u001b[0m\u001b[0m\n",
            "\u001b[0;31mTypeError\u001b[0m: unsupported operand type(s) for /: '_iLocIndexer' and '_iLocIndexer'"
          ]
        }
      ]
    }
  ]
}
