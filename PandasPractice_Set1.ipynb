{
  "nbformat": 4,
  "nbformat_minor": 0,
  "metadata": {
    "colab": {
      "name": "PandasPractice_Set1.ipynb",
      "provenance": [],
      "collapsed_sections": [],
      "authorship_tag": "ABX9TyMotfxRzzG4vxnQIj56RQqs",
      "include_colab_link": true
    },
    "kernelspec": {
      "name": "python3",
      "display_name": "Python 3"
    }
  },
  "cells": [
    {
      "cell_type": "markdown",
      "metadata": {
        "id": "view-in-github",
        "colab_type": "text"
      },
      "source": [
        "<a href=\"https://colab.research.google.com/github/cmsteinberg/DataScience/blob/main/PandasPractice_Set1.ipynb\" target=\"_parent\"><img src=\"https://colab.research.google.com/assets/colab-badge.svg\" alt=\"Open In Colab\"/></a>"
      ]
    },
    {
      "cell_type": "markdown",
      "metadata": {
        "id": "6LUN7jHUnWEE"
      },
      "source": [
        "Import it into a pandas dataframe"
      ]
    },
    {
      "cell_type": "code",
      "metadata": {
        "id": "mR9EVnRRnTds",
        "colab": {
          "base_uri": "https://localhost:8080/",
          "height": 206
        },
        "outputId": "1a5d0ee2-c242-4cd6-e638-222485affdbc"
      },
      "source": [
        "import matplotlib.pyplot as plt\r\n",
        "import pandas as pd \r\n",
        "df = pd.read_csv(\"https://raw.githubusercontent.com/cmsteinberg/DataScience/main/Pandas_and_Basic_ML_Practice/Blank_Car_Info.csv\", header = None)\r\n"
      ],
      "execution_count": 27,
      "outputs": [
        {
          "output_type": "execute_result",
          "data": {
            "text/html": [
              "<div>\n",
              "<style scoped>\n",
              "    .dataframe tbody tr th:only-of-type {\n",
              "        vertical-align: middle;\n",
              "    }\n",
              "\n",
              "    .dataframe tbody tr th {\n",
              "        vertical-align: top;\n",
              "    }\n",
              "\n",
              "    .dataframe thead th {\n",
              "        text-align: right;\n",
              "    }\n",
              "</style>\n",
              "<table border=\"1\" class=\"dataframe\">\n",
              "  <thead>\n",
              "    <tr style=\"text-align: right;\">\n",
              "      <th></th>\n",
              "      <th>0</th>\n",
              "      <th>1</th>\n",
              "      <th>2</th>\n",
              "      <th>3</th>\n",
              "      <th>4</th>\n",
              "      <th>5</th>\n",
              "      <th>6</th>\n",
              "    </tr>\n",
              "  </thead>\n",
              "  <tbody>\n",
              "    <tr>\n",
              "      <th>0</th>\n",
              "      <td>3</td>\n",
              "      <td>1</td>\n",
              "      <td>25</td>\n",
              "      <td>40</td>\n",
              "      <td>915</td>\n",
              "      <td>431</td>\n",
              "      <td>0.369963</td>\n",
              "    </tr>\n",
              "    <tr>\n",
              "      <th>1</th>\n",
              "      <td>1</td>\n",
              "      <td>2</td>\n",
              "      <td>10</td>\n",
              "      <td>10</td>\n",
              "      <td>325</td>\n",
              "      <td>934</td>\n",
              "      <td>0.754573</td>\n",
              "    </tr>\n",
              "    <tr>\n",
              "      <th>2</th>\n",
              "      <td>1</td>\n",
              "      <td>3</td>\n",
              "      <td>10</td>\n",
              "      <td>10</td>\n",
              "      <td>431</td>\n",
              "      <td>915</td>\n",
              "      <td>0.886215</td>\n",
              "    </tr>\n",
              "    <tr>\n",
              "      <th>3</th>\n",
              "      <td>2</td>\n",
              "      <td>3</td>\n",
              "      <td>35</td>\n",
              "      <td>35</td>\n",
              "      <td>463</td>\n",
              "      <td>10</td>\n",
              "      <td>0.971624</td>\n",
              "    </tr>\n",
              "    <tr>\n",
              "      <th>4</th>\n",
              "      <td>2</td>\n",
              "      <td>2</td>\n",
              "      <td>10</td>\n",
              "      <td>10</td>\n",
              "      <td>283</td>\n",
              "      <td>10</td>\n",
              "      <td>0.848398</td>\n",
              "    </tr>\n",
              "  </tbody>\n",
              "</table>\n",
              "</div>"
            ],
            "text/plain": [
              "   0  1   2   3    4    5         6\n",
              "0  3  1  25  40  915  431  0.369963\n",
              "1  1  2  10  10  325  934  0.754573\n",
              "2  1  3  10  10  431  915  0.886215\n",
              "3  2  3  35  35  463   10  0.971624\n",
              "4  2  2  10  10  283   10  0.848398"
            ]
          },
          "metadata": {
            "tags": []
          },
          "execution_count": 27
        }
      ]
    },
    {
      "cell_type": "markdown",
      "metadata": {
        "id": "-VK-C9MG8ulC"
      },
      "source": [
        "Assign the column names as [numDoors, numCylinders, mpgHighway, mpgStreets, currentMileage, avgMileagePerTuneUp, qualityRating]"
      ]
    },
    {
      "cell_type": "code",
      "metadata": {
        "id": "9plz2XWN8yb6",
        "colab": {
          "base_uri": "https://localhost:8080/",
          "height": 206
        },
        "outputId": "3b1b4248-363b-464c-b4e2-507eaa3e4f39"
      },
      "source": [
        "df.columns = [\"numDoors\", \"numCylinders\", \"mpgHighway\", \"mpgStreets\", \"currentMileage\", \"avgMileagePerTuneUp\", \"qualityRating\"]"
      ],
      "execution_count": 28,
      "outputs": [
        {
          "output_type": "execute_result",
          "data": {
            "text/html": [
              "<div>\n",
              "<style scoped>\n",
              "    .dataframe tbody tr th:only-of-type {\n",
              "        vertical-align: middle;\n",
              "    }\n",
              "\n",
              "    .dataframe tbody tr th {\n",
              "        vertical-align: top;\n",
              "    }\n",
              "\n",
              "    .dataframe thead th {\n",
              "        text-align: right;\n",
              "    }\n",
              "</style>\n",
              "<table border=\"1\" class=\"dataframe\">\n",
              "  <thead>\n",
              "    <tr style=\"text-align: right;\">\n",
              "      <th></th>\n",
              "      <th>numDoors</th>\n",
              "      <th>numCylinders</th>\n",
              "      <th>mpgHighway</th>\n",
              "      <th>mpgStreets</th>\n",
              "      <th>currentMileage</th>\n",
              "      <th>avgMileagePerTuneUp</th>\n",
              "      <th>qualityRating</th>\n",
              "    </tr>\n",
              "  </thead>\n",
              "  <tbody>\n",
              "    <tr>\n",
              "      <th>0</th>\n",
              "      <td>3</td>\n",
              "      <td>1</td>\n",
              "      <td>25</td>\n",
              "      <td>40</td>\n",
              "      <td>915</td>\n",
              "      <td>431</td>\n",
              "      <td>0.369963</td>\n",
              "    </tr>\n",
              "    <tr>\n",
              "      <th>1</th>\n",
              "      <td>1</td>\n",
              "      <td>2</td>\n",
              "      <td>10</td>\n",
              "      <td>10</td>\n",
              "      <td>325</td>\n",
              "      <td>934</td>\n",
              "      <td>0.754573</td>\n",
              "    </tr>\n",
              "    <tr>\n",
              "      <th>2</th>\n",
              "      <td>1</td>\n",
              "      <td>3</td>\n",
              "      <td>10</td>\n",
              "      <td>10</td>\n",
              "      <td>431</td>\n",
              "      <td>915</td>\n",
              "      <td>0.886215</td>\n",
              "    </tr>\n",
              "    <tr>\n",
              "      <th>3</th>\n",
              "      <td>2</td>\n",
              "      <td>3</td>\n",
              "      <td>35</td>\n",
              "      <td>35</td>\n",
              "      <td>463</td>\n",
              "      <td>10</td>\n",
              "      <td>0.971624</td>\n",
              "    </tr>\n",
              "    <tr>\n",
              "      <th>4</th>\n",
              "      <td>2</td>\n",
              "      <td>2</td>\n",
              "      <td>10</td>\n",
              "      <td>10</td>\n",
              "      <td>283</td>\n",
              "      <td>10</td>\n",
              "      <td>0.848398</td>\n",
              "    </tr>\n",
              "  </tbody>\n",
              "</table>\n",
              "</div>"
            ],
            "text/plain": [
              "   numDoors  numCylinders  ...  avgMileagePerTuneUp  qualityRating\n",
              "0         3             1  ...                  431       0.369963\n",
              "1         1             2  ...                  934       0.754573\n",
              "2         1             3  ...                  915       0.886215\n",
              "3         2             3  ...                   10       0.971624\n",
              "4         2             2  ...                   10       0.848398\n",
              "\n",
              "[5 rows x 7 columns]"
            ]
          },
          "metadata": {
            "tags": []
          },
          "execution_count": 28
        }
      ]
    },
    {
      "cell_type": "markdown",
      "metadata": {
        "id": "g75u0FPG_e99"
      },
      "source": [
        "Check for null values\r\n"
      ]
    },
    {
      "cell_type": "code",
      "metadata": {
        "colab": {
          "base_uri": "https://localhost:8080/"
        },
        "id": "824Wrp1K_il1",
        "outputId": "9ecf4670-e4e9-4784-dcf5-5fe44bdb5c91"
      },
      "source": [
        "df.isnull().sum()\r\n"
      ],
      "execution_count": 5,
      "outputs": [
        {
          "output_type": "stream",
          "text": [
            "float64\n",
            "[[3.00000000e+00 1.00000000e+00 2.50000000e+01 ... 9.15000000e+02\n",
            "  4.31000000e+02 3.69962948e-01]\n",
            " [1.00000000e+00 2.00000000e+00 1.00000000e+01 ... 3.25000000e+02\n",
            "  9.34000000e+02 7.54572606e-01]\n",
            " [1.00000000e+00 3.00000000e+00 1.00000000e+01 ... 4.31000000e+02\n",
            "  9.15000000e+02 8.86215476e-01]\n",
            " ...\n",
            " [2.00000000e+00 2.00000000e+00 3.50000000e+01 ... 3.25000000e+02\n",
            "  1.00000000e+01 9.19053900e-01]\n",
            " [1.00000000e+00 1.00000000e+00 4.00000000e+01 ... 4.63000000e+02\n",
            "  1.00000000e+01 8.28795078e-01]\n",
            " [2.00000000e+00 3.00000000e+00 3.50000000e+01 ... 1.00000000e+01\n",
            "  9.34000000e+02 1.16761487e-01]]\n"
          ],
          "name": "stdout"
        }
      ]
    },
    {
      "cell_type": "markdown",
      "metadata": {
        "id": "jG5pV8op_ixW"
      },
      "source": [
        "Use the drive colab notebook \"_2 Practice Problems, Regex, Simple ML Examples.ipynb\" to run a kmeans clustering and find the centers if the data were divided into 4 categories."
      ]
    },
    {
      "cell_type": "code",
      "metadata": {
        "id": "W-rnF1jd_i7w",
        "colab": {
          "base_uri": "https://localhost:8080/"
        },
        "outputId": "4f808b16-c134-4015-d560-292e92485009"
      },
      "source": [
        "from sklearn.cluster import KMeans\r\n",
        "import numpy as np\r\n",
        "\r\n",
        "\r\n",
        "kmns = KMeans(n_clusters=4).fit(df)\r\n",
        "\r\n",
        "cc = kmeans.cluster_centers_\r\n",
        "\r\n",
        "print(cc)"
      ],
      "execution_count": 13,
      "outputs": [
        {
          "output_type": "stream",
          "text": [
            "[[2.26724138e+00 2.49137931e+00 2.61853448e+01 2.52155172e+01\n",
            "  8.54737069e+02 2.34806034e+02 4.89035414e-01]\n",
            " [2.41981132e+00 2.42924528e+00 2.62971698e+01 2.72169811e+01\n",
            "  2.48825472e+02 8.66966981e+02 5.46785990e-01]\n",
            " [2.34146341e+00 2.47560976e+00 2.70731707e+01 2.67682927e+01\n",
            "  8.75695122e+02 8.72621951e+02 5.06455425e-01]\n",
            " [2.35379061e+00 2.37184116e+00 2.68772563e+01 2.58032491e+01\n",
            "  2.52176895e+02 2.45373646e+02 5.06421092e-01]]\n"
          ],
          "name": "stdout"
        }
      ]
    },
    {
      "cell_type": "markdown",
      "metadata": {
        "id": "Q2qe1iqb_jEl"
      },
      "source": [
        "We are given a new car with stats [2, 4, 500, 300, 150, 760, .6] find which cluster it belongs to"
      ]
    },
    {
      "cell_type": "code",
      "metadata": {
        "id": "2uu8KtfL_jML",
        "colab": {
          "base_uri": "https://localhost:8080/"
        },
        "outputId": "43cbb5c2-3248-4c1c-b44b-5ac67bf7397f"
      },
      "source": [
        "prediction = kmns.predict(np.array([2, 4, 500, 300, 150, 760, .6]).reshape(-1,7))\r\n",
        "print(prediction)"
      ],
      "execution_count": 23,
      "outputs": [
        {
          "output_type": "stream",
          "text": [
            "[3]\n"
          ],
          "name": "stdout"
        }
      ]
    },
    {
      "cell_type": "markdown",
      "metadata": {
        "id": "1PJ3o_Rd_jUC"
      },
      "source": [
        "We are given a new car with stats [2, 3, 100, 900, 500, 45] with the qualityRating unknown.  Use SVM to find it's quality rating.  I suggest that you find a way to \"bin\" the quality ratings so that you have only a couple of categories instead of what is given, and only then do the SVM."
      ]
    },
    {
      "cell_type": "code",
      "metadata": {
        "id": "cDIg_Qsu_jbK",
        "colab": {
          "base_uri": "https://localhost:8080/",
          "height": 398
        },
        "outputId": "35cb123e-a6ea-49e0-8e67-266d99c8198a"
      },
      "source": [
        "from sklearn import svm\r\n",
        "svm = svm.SVC().fit(df['qualityRating'].values.reshape(-1,len(df)), df)\r\n",
        "\r\n",
        "qR = svm.predict([[2, 3, 100, 900, 500, 45]])\r\n",
        "print(qR)"
      ],
      "execution_count": 35,
      "outputs": [
        {
          "output_type": "error",
          "ename": "ValueError",
          "evalue": "ignored",
          "traceback": [
            "\u001b[0;31m---------------------------------------------------------------------------\u001b[0m",
            "\u001b[0;31mValueError\u001b[0m                                Traceback (most recent call last)",
            "\u001b[0;32m<ipython-input-35-94b89cfc421b>\u001b[0m in \u001b[0;36m<module>\u001b[0;34m()\u001b[0m\n\u001b[1;32m      1\u001b[0m \u001b[0;32mfrom\u001b[0m \u001b[0msklearn\u001b[0m \u001b[0;32mimport\u001b[0m \u001b[0msvm\u001b[0m\u001b[0;34m\u001b[0m\u001b[0;34m\u001b[0m\u001b[0m\n\u001b[0;32m----> 2\u001b[0;31m \u001b[0msvm\u001b[0m \u001b[0;34m=\u001b[0m \u001b[0msvm\u001b[0m\u001b[0;34m.\u001b[0m\u001b[0mSVC\u001b[0m\u001b[0;34m(\u001b[0m\u001b[0;34m)\u001b[0m\u001b[0;34m.\u001b[0m\u001b[0mfit\u001b[0m\u001b[0;34m(\u001b[0m\u001b[0mdf\u001b[0m\u001b[0;34m[\u001b[0m\u001b[0;34m'qualityRating'\u001b[0m\u001b[0;34m]\u001b[0m\u001b[0;34m.\u001b[0m\u001b[0mvalues\u001b[0m\u001b[0;34m.\u001b[0m\u001b[0mreshape\u001b[0m\u001b[0;34m(\u001b[0m\u001b[0;34m-\u001b[0m\u001b[0;36m1\u001b[0m\u001b[0;34m,\u001b[0m\u001b[0mlen\u001b[0m\u001b[0;34m(\u001b[0m\u001b[0mdf\u001b[0m\u001b[0;34m)\u001b[0m\u001b[0;34m)\u001b[0m\u001b[0;34m,\u001b[0m \u001b[0mdf\u001b[0m\u001b[0;34m)\u001b[0m\u001b[0;34m\u001b[0m\u001b[0;34m\u001b[0m\u001b[0m\n\u001b[0m\u001b[1;32m      3\u001b[0m \u001b[0;34m\u001b[0m\u001b[0m\n\u001b[1;32m      4\u001b[0m \u001b[0mqR\u001b[0m \u001b[0;34m=\u001b[0m \u001b[0msvm\u001b[0m\u001b[0;34m.\u001b[0m\u001b[0mpredict\u001b[0m\u001b[0;34m(\u001b[0m\u001b[0;34m[\u001b[0m\u001b[0;34m[\u001b[0m\u001b[0;36m2\u001b[0m\u001b[0;34m,\u001b[0m \u001b[0;36m3\u001b[0m\u001b[0;34m,\u001b[0m \u001b[0;36m100\u001b[0m\u001b[0;34m,\u001b[0m \u001b[0;36m900\u001b[0m\u001b[0;34m,\u001b[0m \u001b[0;36m500\u001b[0m\u001b[0;34m,\u001b[0m \u001b[0;36m45\u001b[0m\u001b[0;34m]\u001b[0m\u001b[0;34m]\u001b[0m\u001b[0;34m)\u001b[0m\u001b[0;34m\u001b[0m\u001b[0;34m\u001b[0m\u001b[0m\n\u001b[1;32m      5\u001b[0m \u001b[0mprint\u001b[0m\u001b[0;34m(\u001b[0m\u001b[0mqR\u001b[0m\u001b[0;34m)\u001b[0m\u001b[0;34m\u001b[0m\u001b[0;34m\u001b[0m\u001b[0m\n",
            "\u001b[0;32m/usr/local/lib/python3.7/dist-packages/sklearn/svm/_base.py\u001b[0m in \u001b[0;36mfit\u001b[0;34m(self, X, y, sample_weight)\u001b[0m\n\u001b[1;32m    146\u001b[0m         X, y = check_X_y(X, y, dtype=np.float64,\n\u001b[1;32m    147\u001b[0m                          \u001b[0morder\u001b[0m\u001b[0;34m=\u001b[0m\u001b[0;34m'C'\u001b[0m\u001b[0;34m,\u001b[0m \u001b[0maccept_sparse\u001b[0m\u001b[0;34m=\u001b[0m\u001b[0;34m'csr'\u001b[0m\u001b[0;34m,\u001b[0m\u001b[0;34m\u001b[0m\u001b[0;34m\u001b[0m\u001b[0m\n\u001b[0;32m--> 148\u001b[0;31m                          accept_large_sparse=False)\n\u001b[0m\u001b[1;32m    149\u001b[0m         \u001b[0my\u001b[0m \u001b[0;34m=\u001b[0m \u001b[0mself\u001b[0m\u001b[0;34m.\u001b[0m\u001b[0m_validate_targets\u001b[0m\u001b[0;34m(\u001b[0m\u001b[0my\u001b[0m\u001b[0;34m)\u001b[0m\u001b[0;34m\u001b[0m\u001b[0;34m\u001b[0m\u001b[0m\n\u001b[1;32m    150\u001b[0m \u001b[0;34m\u001b[0m\u001b[0m\n",
            "\u001b[0;32m/usr/local/lib/python3.7/dist-packages/sklearn/utils/validation.py\u001b[0m in \u001b[0;36mcheck_X_y\u001b[0;34m(X, y, accept_sparse, accept_large_sparse, dtype, order, copy, force_all_finite, ensure_2d, allow_nd, multi_output, ensure_min_samples, ensure_min_features, y_numeric, warn_on_dtype, estimator)\u001b[0m\n\u001b[1;32m    758\u001b[0m                         dtype=None)\n\u001b[1;32m    759\u001b[0m     \u001b[0;32melse\u001b[0m\u001b[0;34m:\u001b[0m\u001b[0;34m\u001b[0m\u001b[0;34m\u001b[0m\u001b[0m\n\u001b[0;32m--> 760\u001b[0;31m         \u001b[0my\u001b[0m \u001b[0;34m=\u001b[0m \u001b[0mcolumn_or_1d\u001b[0m\u001b[0;34m(\u001b[0m\u001b[0my\u001b[0m\u001b[0;34m,\u001b[0m \u001b[0mwarn\u001b[0m\u001b[0;34m=\u001b[0m\u001b[0;32mTrue\u001b[0m\u001b[0;34m)\u001b[0m\u001b[0;34m\u001b[0m\u001b[0;34m\u001b[0m\u001b[0m\n\u001b[0m\u001b[1;32m    761\u001b[0m         \u001b[0m_assert_all_finite\u001b[0m\u001b[0;34m(\u001b[0m\u001b[0my\u001b[0m\u001b[0;34m)\u001b[0m\u001b[0;34m\u001b[0m\u001b[0;34m\u001b[0m\u001b[0m\n\u001b[1;32m    762\u001b[0m     \u001b[0;32mif\u001b[0m \u001b[0my_numeric\u001b[0m \u001b[0;32mand\u001b[0m \u001b[0my\u001b[0m\u001b[0;34m.\u001b[0m\u001b[0mdtype\u001b[0m\u001b[0;34m.\u001b[0m\u001b[0mkind\u001b[0m \u001b[0;34m==\u001b[0m \u001b[0;34m'O'\u001b[0m\u001b[0;34m:\u001b[0m\u001b[0;34m\u001b[0m\u001b[0;34m\u001b[0m\u001b[0m\n",
            "\u001b[0;32m/usr/local/lib/python3.7/dist-packages/sklearn/utils/validation.py\u001b[0m in \u001b[0;36mcolumn_or_1d\u001b[0;34m(y, warn)\u001b[0m\n\u001b[1;32m    795\u001b[0m         \u001b[0;32mreturn\u001b[0m \u001b[0mnp\u001b[0m\u001b[0;34m.\u001b[0m\u001b[0mravel\u001b[0m\u001b[0;34m(\u001b[0m\u001b[0my\u001b[0m\u001b[0;34m)\u001b[0m\u001b[0;34m\u001b[0m\u001b[0;34m\u001b[0m\u001b[0m\n\u001b[1;32m    796\u001b[0m \u001b[0;34m\u001b[0m\u001b[0m\n\u001b[0;32m--> 797\u001b[0;31m     \u001b[0;32mraise\u001b[0m \u001b[0mValueError\u001b[0m\u001b[0;34m(\u001b[0m\u001b[0;34m\"bad input shape {0}\"\u001b[0m\u001b[0;34m.\u001b[0m\u001b[0mformat\u001b[0m\u001b[0;34m(\u001b[0m\u001b[0mshape\u001b[0m\u001b[0;34m)\u001b[0m\u001b[0;34m)\u001b[0m\u001b[0;34m\u001b[0m\u001b[0;34m\u001b[0m\u001b[0m\n\u001b[0m\u001b[1;32m    798\u001b[0m \u001b[0;34m\u001b[0m\u001b[0m\n\u001b[1;32m    799\u001b[0m \u001b[0;34m\u001b[0m\u001b[0m\n",
            "\u001b[0;31mValueError\u001b[0m: bad input shape (1080, 7)"
          ]
        }
      ]
    }
  ]
}