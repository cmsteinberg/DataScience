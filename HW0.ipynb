{
  "nbformat": 4,
  "nbformat_minor": 0,
  "metadata": {
    "colab": {
      "name": "HW0.ipynb",
      "provenance": [],
      "collapsed_sections": [],
      "authorship_tag": "ABX9TyPfaya4S0XOdeUjn1Nstd+u",
      "include_colab_link": true
    },
    "kernelspec": {
      "name": "python3",
      "display_name": "Python 3"
    }
  },
  "cells": [
    {
      "cell_type": "markdown",
      "metadata": {
        "id": "view-in-github",
        "colab_type": "text"
      },
      "source": [
        "<a href=\"https://colab.research.google.com/github/cmsteinberg/DataScience/blob/main/HW0.ipynb\" target=\"_parent\"><img src=\"https://colab.research.google.com/assets/colab-badge.svg\" alt=\"Open In Colab\"/></a>"
      ]
    },
    {
      "cell_type": "markdown",
      "metadata": {
        "id": "dp6Bma2Y4gn4"
      },
      "source": [
        "#Question 1\r\n",
        "\r\n",
        "Write a program that will ask the user to enter the amount of a purchase. The program should then compute the state and county sales tax. Assume the statesales tax is 5 percent and the county sales tax is 2.5 percent. The program should display the amount of the purchase, the state sales tax, the county sales tax, the total sales tax, and the total of the sale(which is the sum of the amountof purchase plus the total sales tax)."
      ]
    },
    {
      "cell_type": "code",
      "metadata": {
        "colab": {
          "base_uri": "https://localhost:8080/"
        },
        "id": "4RRYNt-51mRN",
        "outputId": "40b5cab0-b47e-492d-f79b-57453d38eb83"
      },
      "source": [
        "purchasePrice = float(input(\"What is the amount of your purchase? Have to enter a number \"))\r\n",
        "stateSalesTax = .05\r\n",
        "countySalesTax = .025\r\n",
        "totalSalesTax = (stateSalesTax * purchasePrice) + (countySalesTax * purchasePrice)\r\n",
        "totalSalePrice = totalSalesTax + purchasePrice \r\n",
        "print(purchasePrice, stateSalesTax, countySalesTax, totalSalesTax, totalSalePrice)"
      ],
      "execution_count": 3,
      "outputs": [
        {
          "output_type": "stream",
          "text": [
            "What is the amount of your purchase? Have to enter a number 10\n",
            "10.0 0.05 0.025 0.75 10.75\n"
          ],
          "name": "stdout"
        }
      ]
    },
    {
      "cell_type": "markdown",
      "metadata": {
        "id": "kgfMmVU94yCh"
      },
      "source": [
        "#Question 2\r\n",
        "\r\n",
        "Running on a particular treadmill you burn 4.2 calories per minute. Write a program that uses a loop to display the number of calories burned after 10, 15, 20, 25, and 30 minutes.\r\n"
      ]
    },
    {
      "cell_type": "code",
      "metadata": {
        "colab": {
          "base_uri": "https://localhost:8080/"
        },
        "id": "rbshqU5S4_pB",
        "outputId": "5a258aba-93d5-4855-edd1-c10eea9a1e21"
      },
      "source": [
        "for num in range (10,30,5):\r\n",
        "  print(num * 4.2)"
      ],
      "execution_count": 4,
      "outputs": [
        {
          "output_type": "stream",
          "text": [
            "42.0\n",
            "63.0\n",
            "84.0\n",
            "105.0\n"
          ],
          "name": "stdout"
        }
      ]
    },
    {
      "cell_type": "markdown",
      "metadata": {
        "id": "ZWwXbMbL4_7F"
      },
      "source": [
        "#Question 3\r\n",
        "\r\n",
        "At one college, the tuition for a full-time student is $8,000 per semester. It has been announced that the tuition will increase by 3 percent each year for the next 5 years. Write a program with a loop that displays the projected semester tuition amount for the next 5 years."
      ]
    },
    {
      "cell_type": "code",
      "metadata": {
        "colab": {
          "base_uri": "https://localhost:8080/"
        },
        "id": "1TzknHMS5NpT",
        "outputId": "23ea8453-f428-433d-9f5c-072a3cec3904"
      },
      "source": [
        "tuition = 8000\r\n",
        "for num in range (5):\r\n",
        "  tuition *= 1.03\r\n",
        "  print(tuition)  \r\n"
      ],
      "execution_count": 18,
      "outputs": [
        {
          "output_type": "stream",
          "text": [
            "8240.0\n",
            "8487.2\n",
            "8741.816\n",
            "9004.07048\n",
            "9274.192594400001\n"
          ],
          "name": "stdout"
        }
      ]
    },
    {
      "cell_type": "markdown",
      "metadata": {
        "id": "YlMY5xK-5OMh"
      },
      "source": [
        "#Question 4\r\n",
        "\r\n",
        "Many financial experts advise that property owners should insure their homes or buildings for at least 80 percent of the amount it would cost to replace the structure. Write a program that asks the user to enter the replacement cost of a building, then displays the minimum amount of insurance he or she should buy for the property."
      ]
    },
    {
      "cell_type": "code",
      "metadata": {
        "colab": {
          "base_uri": "https://localhost:8080/"
        },
        "id": "0hy2jkAp5aAf",
        "outputId": "c3d208cd-e142-4979-a04e-f5a2e65c5ce7"
      },
      "source": [
        "replacementCost = float(input(\"What is the replacement cost of your building? Enter a number \"))\r\n",
        "minimumIns = .8 * replacementCost\r\n",
        "print(minimumIns)\r\n"
      ],
      "execution_count": 8,
      "outputs": [
        {
          "output_type": "stream",
          "text": [
            "What is the replacement cost of your building? Enter a number 100\n",
            "80.0\n"
          ],
          "name": "stdout"
        }
      ]
    },
    {
      "cell_type": "markdown",
      "metadata": {
        "id": "pXuyV2YT5adY"
      },
      "source": [
        "#Question 5\r\n",
        "\r\n",
        "A county collects property taxes on the assessment value of property, which is 60 percent of the property’s actual value. For example, if an acre of land is valued at 10,000 Dollars, its assessment value is  6,000 Dollars. The property tax is then 72 Cents for each 100 Dollars of the assessment value. The tax for the acre assessed at 6,000 Dollars will be 43.20 Dollars. Write a program that asks for the actual value of a piece of property and displays the assessment value and property tax."
      ]
    },
    {
      "cell_type": "code",
      "metadata": {
        "colab": {
          "base_uri": "https://localhost:8080/"
        },
        "id": "pdxLiuxm7Tqo",
        "outputId": "b4ffb976-f13a-49ce-d84e-db1e10b61f50"
      },
      "source": [
        "actualValue = float(input(\"What is the actual value of the property? \"))\r\n",
        "assessmentValue = .6 * actualValue\r\n",
        "propertyTax = .0072 * assessmentValue\r\n",
        "print(assessmentValue, propertyTax)"
      ],
      "execution_count": 9,
      "outputs": [
        {
          "output_type": "stream",
          "text": [
            "What is the actual value of the property? 10000\n",
            "6000.0 43.199999999999996\n"
          ],
          "name": "stdout"
        }
      ]
    },
    {
      "cell_type": "markdown",
      "metadata": {
        "id": "0Dijlg8G7V-Y"
      },
      "source": [
        "#Question 6\r\n",
        "\r\n",
        "Write a program that generates 100 random numbers and keeps a count of how many of those random numbers are even, and how many of them are odd.\r\n",
        "\r\n",
        "\r\n"
      ]
    },
    {
      "cell_type": "code",
      "metadata": {
        "colab": {
          "base_uri": "https://localhost:8080/"
        },
        "id": "-DthutX-714y",
        "outputId": "b34d48fa-2a68-418b-b5cb-3c104569aa01"
      },
      "source": [
        "import random\r\n",
        "\r\n",
        "numEven = 0\r\n",
        "numOdd = 0\r\n",
        "for num in range(100):\r\n",
        "  randomNumber = random.randrange(100) \r\n",
        "  if randomNumber % 2 == 0:\r\n",
        "    numEven += 1\r\n",
        "  else:\r\n",
        "    numOdd += 1 \r\n",
        "print(numEven, numOdd)"
      ],
      "execution_count": 19,
      "outputs": [
        {
          "output_type": "stream",
          "text": [
            "54 46\n"
          ],
          "name": "stdout"
        }
      ]
    },
    {
      "cell_type": "markdown",
      "metadata": {
        "id": "48qEKEG_72M1"
      },
      "source": [
        "#Question 7\r\n",
        "\r\n",
        "Write a program that lets the user play the game of Rock, Paper, Scissors against the computer. The program should work as follows:\r\n",
        "\r\n",
        "a. When the program begins, a random number in the range of 1 through 3 is generated. If the number is 1, then the computer has chosen rock. If the number is 2, then the computer has chosen paper. If the number is 3, then the computer has chosen scissors. (Don’t display the computer’s choice yet)\r\n",
        "\r\n",
        "b.The user enters his or her choice of “rock,” “paper,” or “scissors” at the keyboard.\r\n",
        "\r\n",
        "c.The computer’s choice is displayed.\r\n",
        "\r\n",
        "d.A winner is selected according to the following rules:\r\n",
        "  \r\n",
        "  i.If one player chooses rock and the other player chooses scissors, then rock wins. (Rock smashes scissors.)\r\n",
        "  \r\n",
        "  ii.If one player chooses scissors and the other player chooses paper, then scissors wins. (Scissors cuts paper.)\r\n",
        "  \r\n",
        "  iii.If one player chooses paper and the other player chooses rock, then paper wins. (Paper wraps rock.)\r\n",
        "  \r\n",
        "  iv.If both players make the same choice, the game mustbe played again to determine the winner"
      ]
    },
    {
      "cell_type": "code",
      "metadata": {
        "colab": {
          "base_uri": "https://localhost:8080/"
        },
        "id": "Nh6sfxgV8gz5",
        "outputId": "5b7270f3-da7b-45ae-d68a-3747065d23bf"
      },
      "source": [
        "import random\r\n",
        "\r\n",
        "def rockPaperScissors():\r\n",
        "  computerChoice = random.randint(1,3)\r\n",
        "  playerChoice = input(\"Pick between rock, paper or scissors\\t\")\r\n",
        "\r\n",
        "\r\n",
        "  if computerChoice == 1:\r\n",
        "    print(\"Computer picked rock\")\r\n",
        "  elif computerChoice == 2:\r\n",
        "    print(\"Computer picked paper\")\r\n",
        "  elif computerChoice == 3:\r\n",
        "    print(\"Computer picked scissors\")\r\n",
        "\r\n",
        "\r\n",
        "  if playerChoice == \"rock\":\r\n",
        "    playerChoiceInInt = 1\r\n",
        "  elif playerChoice == \"paper\":\r\n",
        "    playerChoiceInInt = 2\r\n",
        "  elif playerChoice == \"scissors\":\r\n",
        "    playerChoiceInInt = 3  \r\n",
        "\r\n",
        "  if playerChoiceInInt - computerChoice == 0:\r\n",
        "    #Means that they picked the same thing, so recursively play a new game\r\n",
        "    rockPaperScissors()\r\n",
        "  elif playerChoiceInInt + computerChoice == 3:\r\n",
        "    #Means one picked rock, and one picked paper, so greater number wins\r\n",
        "    if playerChoiceInInt > computerChoice:\r\n",
        "      #So player picked paper\r\n",
        "      print(\"Player won!!\")\r\n",
        "    else:\r\n",
        "      #So player picked rock\r\n",
        "      print(\"Computer won ;-;\")\r\n",
        "  else:\r\n",
        "    #Someone picked scissors\r\n",
        "    if playerChoiceInInt == 3:\r\n",
        "      if computerChoice == 2:\r\n",
        "        #Scissors beats paper\r\n",
        "        print(\"Player won!!\")\r\n",
        "      else:\r\n",
        "        #Rock beats scissors\r\n",
        "        print(\"Computer won ;-;\")\r\n",
        "    else:\r\n",
        "      if playerChoiceInInt == 1:\r\n",
        "        #Rock beats scissors\r\n",
        "        print(\"Player won!!\")\r\n",
        "      else:\r\n",
        "        #Scissors beats paper\r\n",
        "        print(\"Computer won ;-;\")\r\n",
        "\r\n",
        "rockPaperScissors()"
      ],
      "execution_count": 53,
      "outputs": [
        {
          "output_type": "stream",
          "text": [
            "Pick between rock, paper or scissors\tpaper\n",
            "Computer picked paper\n",
            "Pick between rock, paper or scissors\tpaper\n",
            "Computer picked paper\n",
            "Pick between rock, paper or scissors\tpaper\n",
            "Computer picked scissors\n",
            "Computer won ;-;\n"
          ],
          "name": "stdout"
        }
      ]
    },
    {
      "cell_type": "markdown",
      "metadata": {
        "id": "X5c_is0z8hJr"
      },
      "source": [
        "#Question 8\r\n",
        "\r\n",
        "In a program, write a function that accepts two arguments: a list, and a number n. Assume that the list contains numbers. The function should display all of the numbers in the list that are greater than the number n."
      ]
    },
    {
      "cell_type": "code",
      "metadata": {
        "colab": {
          "base_uri": "https://localhost:8080/"
        },
        "id": "CxDKpzLU8uy_",
        "outputId": "ab18db06-81c3-4289-a76a-0a3d3abe324d"
      },
      "source": [
        "def greaterThanN(listNums, n):\r\n",
        "  for num in listNums:\r\n",
        "    if num > n:\r\n",
        "      print(num)\r\n",
        "\r\n",
        "\r\n",
        "greaterThanN([13, 45, 48874, -5, 2], 6)\r\n",
        "\r\n"
      ],
      "execution_count": 36,
      "outputs": [
        {
          "output_type": "stream",
          "text": [
            "13\n",
            "45\n",
            "48874\n"
          ],
          "name": "stdout"
        }
      ]
    },
    {
      "cell_type": "markdown",
      "metadata": {
        "id": "l212-co78vUR"
      },
      "source": [
        "#Question 9\r\n",
        "\r\n",
        "A positive integer greater than 1 is said to be prime if it has no divisors other than 1 and itself. A positive integer greater than 1 is composite if it is not prime. Write a program that asks the user to enter an integer greater than 1, then displays all of the prime numbers that are less than or equal to the number entered. The program should work as follows:\r\n",
        "\r\n",
        "a. Once the user has entered a number, the program should populate a list with all of the integers from 2 up through the value entered.\r\n",
        "\r\n",
        "b.The program should then use a loop to step through the list. The loop should pass each element to a function that displays whether the element is a prime number, or a composite number."
      ]
    },
    {
      "cell_type": "code",
      "metadata": {
        "colab": {
          "base_uri": "https://localhost:8080/"
        },
        "id": "V-Dm22HQ9-JL",
        "outputId": "3e4c4589-e10e-4756-d15a-de3ff8b5f7af"
      },
      "source": [
        "import math\r\n",
        "\r\n",
        "def displayAllLesserPrimes():\r\n",
        "  number = int(input(\"Enter an Integer greater than 1:\\t\"))\r\n",
        "  lesserNumbers = list(range(2, number))\r\n",
        "  for num in lesserNumbers:\r\n",
        "    displayPrimeOrComposite(num)\r\n",
        "\r\n",
        "\r\n",
        "\r\n",
        "def isPrime(number):\r\n",
        "  if number % 2 == 0:\r\n",
        "    return False\r\n",
        "  else:\r\n",
        "    for i in range(3, round(math.sqrt(number) + 1), 2):\r\n",
        "      if number % i == 0:\r\n",
        "        return False\r\n",
        "\r\n",
        "  return True      \r\n",
        "\r\n",
        "def displayPrimeOrComposite(number):\r\n",
        "  if isPrime(number):\r\n",
        "    print(f'{number} is prime!')\r\n",
        "  else:\r\n",
        "    print(f'{number} is composite')\r\n",
        "\r\n",
        "\r\n",
        "displayAllLesserPrimes()"
      ],
      "execution_count": 42,
      "outputs": [
        {
          "output_type": "stream",
          "text": [
            "Enter an Integer greater than 1:\t33\n",
            "2 is composite\n",
            "3 is prime!\n",
            "4 is composite\n",
            "5 is prime!\n",
            "6 is composite\n",
            "7 is prime!\n",
            "8 is composite\n",
            "9 is composite\n",
            "10 is composite\n",
            "11 is prime!\n",
            "12 is composite\n",
            "13 is prime!\n",
            "14 is composite\n",
            "15 is composite\n",
            "16 is composite\n",
            "17 is prime!\n",
            "18 is composite\n",
            "19 is prime!\n",
            "20 is composite\n",
            "21 is composite\n",
            "22 is composite\n",
            "23 is prime!\n",
            "24 is composite\n",
            "25 is composite\n",
            "26 is composite\n",
            "27 is composite\n",
            "28 is composite\n",
            "29 is prime!\n",
            "30 is composite\n",
            "31 is prime!\n",
            "32 is composite\n"
          ],
          "name": "stdout"
        }
      ]
    },
    {
      "cell_type": "markdown",
      "metadata": {
        "id": "Q1K3Ltcl-A4z"
      },
      "source": [
        "#Question 10\r\n",
        "\r\n",
        "\r\n",
        "Write a program that asks the user to enter a series of single-digit numbers with nothing separating them. The program should display the sum of all the single digit numbers in the string. For example, if the user enters 2514, the method should return 12, which is the sum of 2, 5, 1, and 4"
      ]
    },
    {
      "cell_type": "code",
      "metadata": {
        "colab": {
          "base_uri": "https://localhost:8080/"
        },
        "id": "fLvV-m-p-KSt",
        "outputId": "55ca7d69-44d1-497d-a3b4-1d5fd22f310b"
      },
      "source": [
        "def addDigitsInString ():\r\n",
        "  stringVal = input(\"Enter a number, only digits allowed\\t\")\r\n",
        "  sum = 0\r\n",
        "  if not stringVal.isdigit():\r\n",
        "    print('can only enter numbers/digits')\r\n",
        "  else:\r\n",
        "    for char in stringVal:\r\n",
        "      sum += int(char)\r\n",
        "    print(sum)\r\n",
        "\r\n",
        "addDigitsInString()\r\n"
      ],
      "execution_count": 48,
      "outputs": [
        {
          "output_type": "stream",
          "text": [
            "Enter a number, only digits allowed\t35308540\n",
            "28\n"
          ],
          "name": "stdout"
        }
      ]
    },
    {
      "cell_type": "markdown",
      "metadata": {
        "id": "eaz19IjG-Ko9"
      },
      "source": [
        "# Question 11\r\n",
        "\r\n",
        "Write a program that lets the user enter a string and displays the character that appears most frequently in the string.\r\n",
        "\r\n",
        "  "
      ]
    },
    {
      "cell_type": "code",
      "metadata": {
        "colab": {
          "base_uri": "https://localhost:8080/"
        },
        "id": "U--s54Ud-S12",
        "outputId": "8bff61dc-cc8c-4e41-bb90-2156e8fc4c64"
      },
      "source": [
        "def mostFrequentChar(stringVal):\r\n",
        "  charachters = {}\r\n",
        "  for char in stringVal:\r\n",
        "    if char in charachters.keys():\r\n",
        "      charachters[char] += 1\r\n",
        "    else:\r\n",
        "      charachters[char] = 1  \r\n",
        "  values =list(charachters.values())\r\n",
        "  keys = list(charachters.keys())\r\n",
        "  maxKey = keys[values.index(max(values))]\r\n",
        "  maxVal = max(values)\r\n",
        "  print(maxKey, maxVal)\r\n",
        " \r\n",
        " \r\n",
        "mostFrequentChar(\"safoiqneofniewnfownoiiiiiiiii\")"
      ],
      "execution_count": 16,
      "outputs": [
        {
          "output_type": "stream",
          "text": [
            "i 11\n"
          ],
          "name": "stdout"
        }
      ]
    },
    {
      "cell_type": "markdown",
      "metadata": {
        "id": "Udxux5ra-THM"
      },
      "source": [
        "# Question 12\r\n",
        "\r\n",
        "Write a program that opens a specified text file then displays a list of all the unique words found in the file. Hint: Store each word as an element of a set."
      ]
    },
    {
      "cell_type": "code",
      "metadata": {
        "id": "ROfCxbqs-d2L"
      },
      "source": [
        "def uniqueWords(fileName):\r\n",
        "  textFile = open(fileName, r)\r\n",
        "  txt = textFile.read()\r\n",
        "  wordsList = txt.split(' ')\r\n",
        "  for words in wordsList:\r\n",
        "    words = removeCommonEndingPunctuation(words)\r\n",
        "  wordsSet = set(wordsList)\r\n",
        "  print(wordsSet)\r\n",
        "\r\n",
        "\r\n",
        "def removeCommonEndingPunctuation(w):\r\n",
        "  if w.endswith('.') or w.endswith(',') or w.endswith(';'):\r\n",
        "    w = w[:-1]\r\n",
        "    return w   "
      ],
      "execution_count": null,
      "outputs": []
    },
    {
      "cell_type": "markdown",
      "metadata": {
        "id": "u0ouoJ-l-eIq"
      },
      "source": [
        "# Question 13\r\n",
        "\r\n",
        "Write a program that reads the contents of a text file. The program should create a dictionary in which the keys are the individual words found in the file and the values are the number of times each word appears. For example, if the word “the” appears 128 times, the dictionary would contain an element with 'the' as the key and 128 as the value. The program should either display the frequency of each word or create a second file containing a list of each word and its frequency."
      ]
    },
    {
      "cell_type": "code",
      "metadata": {
        "id": "R2_ol0P6-tG6"
      },
      "source": [
        "fName = input(\"What's the name of the file? Put the path in if it is in different directory\\t\")\r\n",
        "txtFile = open(fName,r)\r\n",
        "content = txtFile.read()\r\n",
        "frequencyCount = {}\r\n",
        "\r\n",
        "wList = content.split(' ')\r\n",
        "  for wrd in wList:\r\n",
        "    removeCommonEndingPunctuation(wrd)\r\n",
        "    if wrd in frequencyCount:\r\n",
        "      frequencyCount[wrd] += 1\r\n",
        "    else: \r\n",
        "      frequencyCount[wrd] = 1\r\n",
        "\r\n",
        "\r\n",
        "print(frequencyCount)\r\n",
        "\r\n"
      ],
      "execution_count": null,
      "outputs": []
    }
  ]
}