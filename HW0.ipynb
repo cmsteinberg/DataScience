{
  "nbformat": 4,
  "nbformat_minor": 0,
  "metadata": {
    "colab": {
      "name": "HW0.ipynb",
      "provenance": [],
      "collapsed_sections": [],
      "authorship_tag": "ABX9TyNM2SE8X/Fqip6mU4b5+fnK",
      "include_colab_link": true
    },
    "kernelspec": {
      "name": "python3",
      "display_name": "Python 3"
    }
  },
  "cells": [
    {
      "cell_type": "markdown",
      "metadata": {
        "id": "view-in-github",
        "colab_type": "text"
      },
      "source": [
        "<a href=\"https://colab.research.google.com/github/cmsteinberg/DataScience/blob/main/HW0.ipynb\" target=\"_parent\"><img src=\"https://colab.research.google.com/assets/colab-badge.svg\" alt=\"Open In Colab\"/></a>"
      ]
    },
    {
      "cell_type": "markdown",
      "metadata": {
        "id": "Kyi2tBuEWGja"
      },
      "source": [
        "#Question 1\r\n",
        "\r\n",
        "Use the following data and create an array that stores all earners over $100,000.\r\n",
        "<br>\r\n",
        "employees = {'Alice' : 100000,  'Bob' : 99817, 'Carol' : 122908,  'Frank' : 88123,'Eve' : 93121}"
      ]
    },
    {
      "cell_type": "code",
      "metadata": {
        "id": "EDpg2N6CV-d0"
      },
      "source": [
        ""
      ],
      "execution_count": null,
      "outputs": []
    },
    {
      "cell_type": "markdown",
      "metadata": {
        "id": "cDibD_9UW-44"
      },
      "source": [
        "#Question 2\r\n",
        "\r\n",
        "Create a list of all the even squares from 1 to 1000, and sort it so it is largest to smallest.\r\n"
      ]
    },
    {
      "cell_type": "code",
      "metadata": {
        "id": "LWDGZNypXGwN"
      },
      "source": [
        ""
      ],
      "execution_count": null,
      "outputs": []
    },
    {
      "cell_type": "markdown",
      "metadata": {
        "id": "PyZ6RXMRXHOb"
      },
      "source": [
        "#Question 3\r\n",
        "\r\n",
        "Find all words in the text that are greater than 6 letters and store in a list: \r\n",
        "<blockquote>​Call me Ishmael. Some years ago - never mind how long precisely - having little or nomoney in my purse, and nothing particular to interest me on shore, I thought Iwould sail about a little and see the watery part of the world. It is a way I have ofdriving off the spleen, and regulating the circulation. - Moby Dick'''\r\n",
        "</blockquote>\r\n"
      ]
    },
    {
      "cell_type": "code",
      "metadata": {
        "id": "Ux7IVj_yXgo9"
      },
      "source": [
        ""
      ],
      "execution_count": null,
      "outputs": []
    },
    {
      "cell_type": "markdown",
      "metadata": {
        "id": "_OcPYvLeXhDq"
      },
      "source": [
        "#Question 4\r\n",
        "\r\n",
        "Create a new data set that includes every other data point. ​<br>\r\n",
        "price = <br>\r\n",
        "[[9.9,  9.8,  9.8,  9.4,  9.5,  9.7], <br> \r\n",
        "[9.5, 9.4, 9.4, 9.3, 9.2, 9.1], <br>\r\n",
        "[8.4, 7.9, 7.9, 8.1, 8.0, 8.0], <br> \r\n",
        "[7.1, 5.9,4.8, 4.8, 4.7, 3.9]]"
      ]
    },
    {
      "cell_type": "code",
      "metadata": {
        "id": "11XmlbjhYABE"
      },
      "source": [
        ""
      ],
      "execution_count": null,
      "outputs": []
    },
    {
      "cell_type": "markdown",
      "metadata": {
        "id": "vt638fIVYAQ_"
      },
      "source": [
        "#Question 5\r\n",
        "\r\n",
        "Take the data and remove the first and last two values. Create ten copies of the data stored as one list. Use plt.plot to plot it. ​<br>\r\n",
        "cardiac_cycle = [62, 60, 62, 64, 68, 77, 80, 76, 71, 66, 61, 60, 62]\r\n"
      ]
    },
    {
      "cell_type": "code",
      "metadata": {
        "id": "7eslvPm3YN-0"
      },
      "source": [
        ""
      ],
      "execution_count": null,
      "outputs": []
    },
    {
      "cell_type": "markdown",
      "metadata": {
        "id": "mdrsLD6OYOc8"
      },
      "source": [
        "# Question 6\r\n",
        "\r\n",
        "Create a list of any company who pays its employees less than $9 an hour <br>\r\n",
        "\r\n",
        "companies = <br>\r\n",
        "{'CoolCompany' : {'Alice' : 33, 'Bob' : 28, 'Frank' : 29}, <br>\r\n",
        "'CheapCompany' : {'Ann' : 4, 'Lee' : 9, 'Chrisi' : 7},  <br>\r\n",
        "'SosoCompany' : {'Esther' :38, 'Cole' : 8, 'Paris' : 18}}"
      ]
    },
    {
      "cell_type": "code",
      "metadata": {
        "id": "af9dyaTQYspU"
      },
      "source": [
        ""
      ],
      "execution_count": null,
      "outputs": []
    },
    {
      "cell_type": "markdown",
      "metadata": {
        "id": "ylsnLAzyYs7Y"
      },
      "source": [
        "#Question 7\r\n",
        "\r\n",
        "zip and unzip the following two lists: <br>\r\n",
        "\r\n",
        "​lst_1 = [1, 2, 3] <br>\r\n",
        "and <br>\r\n",
        "lst_2 = [4, 5, 6]"
      ]
    },
    {
      "cell_type": "code",
      "metadata": {
        "id": "iGGU9vMdY5Fu"
      },
      "source": [
        ""
      ],
      "execution_count": null,
      "outputs": []
    },
    {
      "cell_type": "markdown",
      "metadata": {
        "id": "CHb0GaBUY52G"
      },
      "source": [
        "#Question 8\r\n",
        "\r\n",
        "Given the matrices a and b. Add, subtract, multiply, and divide a by b. Find the max, min and average as well. <br>\r\n",
        "\r\n",
        "​a = np.array([[1, 0, 0],  [1, 1, 1],   [2, 0, 0]])   <br>   \r\n",
        "\r\n",
        "b =np.array([[1, 1, 1],  [1, 1, 2],    [1, 1, 2]])"
      ]
    },
    {
      "cell_type": "code",
      "metadata": {
        "id": "TDQrJl_rZMTW"
      },
      "source": [
        ""
      ],
      "execution_count": null,
      "outputs": []
    },
    {
      "cell_type": "markdown",
      "metadata": {
        "id": "pAZ8dc4jZMvW"
      },
      "source": [
        "#Question 9\r\n",
        "\r\n",
        "Find the max salary after taxes are taken out. Here alice, bob, and tim have salaries recorded for the years 2019, 2020, and 2021. \r\n",
        "\r\n",
        "a.alice = [99, 101, 103]\r\n",
        "\r\n",
        "b.bob = [110, 108, 105]\r\n",
        "\r\n",
        "c.tim = [90, 88, 85]\r\n",
        "\r\n",
        "d.salaries = np.array([alice, bob, tim])\r\n",
        "\r\n",
        "e.taxation = <br>\r\n",
        "np.array([[0.2, 0.25, 0.22], <br>\r\n",
        "[0.4, 0.5, 0.5], <br>\r\n",
        "[0.1, 0.2, 0.1]])"
      ]
    },
    {
      "cell_type": "code",
      "metadata": {
        "id": "q9Eaur43ZotL"
      },
      "source": [
        ""
      ],
      "execution_count": null,
      "outputs": []
    },
    {
      "cell_type": "markdown",
      "metadata": {
        "id": "z9fA_vczZpFl"
      },
      "source": [
        "#Question 10\r\n",
        "\r\n",
        "Increase the salary for only data scientists every other year\r\n",
        "\r\n",
        "a.# Data: yearly salary in ($1000) [2019, 2020, 2021]\r\n",
        "\r\n",
        "b.dataScientist =  [130, 132, 137]\r\n",
        "\r\n",
        "c.productManager =  [127, 140, 145]\r\n",
        "\r\n",
        "d.designer =  [118, 118, 127]\r\n",
        "\r\n",
        "e.softwareEngineer =  [129, 131, 137]\r\n",
        "\r\n",
        "f.employees = np.array ([dataScientist, productManager, designer,softwareEngineer])"
      ]
    },
    {
      "cell_type": "code",
      "metadata": {
        "id": "q_hR20UAZ2vK"
      },
      "source": [
        ""
      ],
      "execution_count": null,
      "outputs": []
    },
    {
      "cell_type": "markdown",
      "metadata": {
        "id": "AgbQYPsWZ3Jt"
      },
      "source": [
        "#Question 11\r\n",
        "\r\n",
        "Find all cities with above-average pollution peaks from a set of data.\r\n",
        "\r\n",
        "a. Data: air quality index AQI data (row = city)\r\n",
        "\r\n",
        "b. X = <br>\r\n",
        "np.array([[ 42, 40, 41, 43, 44, 43 ], <br>\r\n",
        "[ 30, 31, 29, 29, 29, 30 ], <br>\r\n",
        "[ 8, 13,31, 11, 11, 9 ], <br>\r\n",
        "[ 11, 11, 12, 13, 11, 12 ]])\r\n",
        "\r\n",
        "c. cities = np.array([\"Hong Kong\", \"New York\", \"Berlin\", \"Montreal\"])"
      ]
    },
    {
      "cell_type": "code",
      "metadata": {
        "id": "YFr1FLN8aWsu"
      },
      "source": [
        ""
      ],
      "execution_count": null,
      "outputs": []
    },
    {
      "cell_type": "markdown",
      "metadata": {
        "id": "w0GKSx00aW-k"
      },
      "source": [
        "#Question 12\r\n",
        "\r\n",
        "Given an array of temperature values, replace every seventh temperature value with the average of the last seven days (including the seventh day’s temperaturevalue).\r\n",
        "\r\n",
        "a.# Sensor data (Mo, Tu, We, Th, Fr, Sa, Su)\r\n",
        "\r\n",
        "b.tmp = np.array([1.1, 2.1, 3, 4.6, 3.8, 4.1, 4, 5, 3.3, 3, 4.6, 3.6, 4.2, 6, 6, 5.1, 5.2, 5.6, 4, 5, 5])"
      ]
    },
    {
      "cell_type": "code",
      "metadata": {
        "id": "yLS0A0vHaqX1"
      },
      "source": [
        ""
      ],
      "execution_count": null,
      "outputs": []
    },
    {
      "cell_type": "markdown",
      "metadata": {
        "id": "s9THI_YjaqrT"
      },
      "source": [
        "#Question 13\r\n",
        "\r\n",
        "Create a function and/or lambda expression that checks if two words are anagrams, such as ‘elvis’ and ‘lives’\r\n"
      ]
    },
    {
      "cell_type": "code",
      "metadata": {
        "id": "zEKd4ONcawwm"
      },
      "source": [
        ""
      ],
      "execution_count": null,
      "outputs": []
    },
    {
      "cell_type": "markdown",
      "metadata": {
        "id": "myrPZcRrauQX"
      },
      "source": [
        "#Question 14\r\n",
        "\r\n",
        "Create a function and/or lambda expression that checks if a phrase is a palindrome "
      ]
    },
    {
      "cell_type": "code",
      "metadata": {
        "id": "oUrFBEJVats0"
      },
      "source": [
        ""
      ],
      "execution_count": null,
      "outputs": []
    },
    {
      "cell_type": "markdown",
      "metadata": {
        "id": "vobSuLSBa4Ox"
      },
      "source": [
        "#Question 15\r\n",
        "\r\n",
        "Create a recursive factorial lambda\r\n"
      ]
    }
  ]
}